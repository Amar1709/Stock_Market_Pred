{
 "cells": [
  {
   "cell_type": "markdown",
   "metadata": {},
   "source": [
    "# STOCK MARKET PREDICTION "
   ]
  },
  {
   "cell_type": "code",
   "execution_count": 1,
   "metadata": {},
   "outputs": [],
   "source": [
    "import numpy as np\n",
    "import pandas as pd\n",
    "import matplotlib.pyplot as plt\n",
    "import seaborn as sns\n",
    "import warnings\n",
    "warnings.filterwarnings(\"ignore\")\n",
    "%matplotlib inline"
   ]
  },
  {
   "cell_type": "code",
   "execution_count": 3,
   "metadata": {},
   "outputs": [
    {
     "data": {
      "text/plain": [
       "['import bokeh',\n",
       " 'from sklearn.preprocessing import StandardScaler',\n",
       " 'import xgboost as xgb',\n",
       " 'from xlrd import open_workbook',\n",
       " 'import statistics',\n",
       " 'import sys',\n",
       " 'import skimage',\n",
       " 'from sklearn.preprocessing import OneHotEncoder',\n",
       " 'import seaborn as sns',\n",
       " 'from sklearn.decomposition import PCA',\n",
       " 'from sklearn.linear_model import RidgeCV',\n",
       " 'import numpy as np',\n",
       " 'import cv2',\n",
       " 'from scipy import signal as sg',\n",
       " 'import plotly as py',\n",
       " 'import nltk',\n",
       " 'import pickle',\n",
       " 'from sklearn.linear_model import ElasticNetCV',\n",
       " 'import altair as alt',\n",
       " 'from pathlib import Path',\n",
       " 'from sklearn.preprocessing import MinMaxScaler',\n",
       " 'from sklearn.preprocessing import RobustScaler',\n",
       " 'import sklearn',\n",
       " 'from sklearn.impute import SimpleImputer',\n",
       " 'from sklearn.linear_model import LassoCV',\n",
       " 'import pydot',\n",
       " 'import lightgbm as lgb',\n",
       " 'from sklearn.manifold import TSNE',\n",
       " 'from sklearn.feature_extraction.text import CountVectorizer',\n",
       " 'from PIL import Image',\n",
       " 'from sklearn.cluster import KMeans',\n",
       " 'from sklearn.model_selection import GridSearchCV',\n",
       " 'from openpyxl import load_workbook',\n",
       " 'from sklearn.linear_model import ElasticNet',\n",
       " 'from sklearn.preprocessing import LabelEncoder',\n",
       " 'from dask import dataframe as dd',\n",
       " 'from sklearn.linear_model import LinearRegression',\n",
       " 'from sklearn.feature_extraction.text import TfidfVectorizer',\n",
       " 'import dash',\n",
       " 'from statsmodels.tsa.arima_model import ARIMA',\n",
       " 'import tensorflow as tf',\n",
       " 'import keras',\n",
       " 'from sklearn import svm',\n",
       " 'import textblob',\n",
       " 'from pyspark import SparkContext',\n",
       " 'from sklearn.model_selection import train_test_split',\n",
       " 'from sklearn.ensemble import RandomForestClassifier',\n",
       " 'from sklearn.ensemble import GradientBoostingClassifier',\n",
       " 'import os',\n",
       " 'import plotly.express as px',\n",
       " 'from sklearn.model_selection import KFold',\n",
       " 'import pandas as pd',\n",
       " 'import torch',\n",
       " 'from sklearn.linear_model import LogisticRegression',\n",
       " 'from scipy import stats',\n",
       " 'from fbprophet import Prophet',\n",
       " 'from sklearn.preprocessing import PolynomialFeatures',\n",
       " 'from sklearn.linear_model import Ridge',\n",
       " 'import datetime as dt',\n",
       " 'from sklearn import metrics',\n",
       " 'from sklearn.model_selection import cross_val_score',\n",
       " 'import awswrangler as wr',\n",
       " 'from sklearn.model_selection import StratifiedKFold',\n",
       " 'import matplotlib.pyplot as plt',\n",
       " 'from sklearn.ensemble import GradientBoostingRegressor',\n",
       " 'import glob',\n",
       " 'import fastai',\n",
       " 'from sklearn.model_selection import RandomizedSearchCV',\n",
       " 'import statsmodels.api as sm',\n",
       " 'from sklearn.ensemble import RandomForestRegressor',\n",
       " 'import plotly.graph_objs as go',\n",
       " 'import imutils',\n",
       " 'import re',\n",
       " 'import fbprophet',\n",
       " 'import matplotlib as mpl',\n",
       " 'import gensim',\n",
       " 'import tqdm',\n",
       " 'from sklearn.linear_model import Lasso',\n",
       " 'import spacy']"
      ]
     },
     "execution_count": 3,
     "metadata": {},
     "output_type": "execute_result"
    }
   ],
   "source": [
    "from pyforest import*\n",
    "lazy_imports()"
   ]
  }
 ],
 "metadata": {
  "interpreter": {
   "hash": "63fd5069d213b44bf678585dea6b12cceca9941eaf7f819626cde1f2670de90d"
  },
  "kernelspec": {
   "display_name": "Python 3.9.6 64-bit",
   "language": "python",
   "name": "python3"
  },
  "language_info": {
   "codemirror_mode": {
    "name": "ipython",
    "version": 3
   },
   "file_extension": ".py",
   "mimetype": "text/x-python",
   "name": "python",
   "nbconvert_exporter": "python",
   "pygments_lexer": "ipython3",
   "version": "3.9.6"
  },
  "orig_nbformat": 4
 },
 "nbformat": 4,
 "nbformat_minor": 2
}
